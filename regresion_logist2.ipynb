{
 "cells": [
  {
   "cell_type": "markdown",
   "id": "ff2c99ff-8d7d-4e30-bb71-d36f0d52895d",
   "metadata": {},
   "source": [
    "# Regresion logistica\n",
    "\n"
   ]
  },
  {
   "cell_type": "code",
   "execution_count": 5,
   "id": "ef21518f-995a-463c-8615-88da23c021f3",
   "metadata": {},
   "outputs": [],
   "source": [
    "import numpy as np\n",
    "import pandas as pd\n",
    "import matplotlib.pyplot as plt\n",
    "import seaborn as sns"
   ]
  },
  {
   "cell_type": "code",
   "execution_count": 6,
   "id": "9e2552ab-510b-4c43-98df-6ff50c28a0bb",
   "metadata": {},
   "outputs": [
    {
     "data": {
      "text/plain": [
       "(400, 5)"
      ]
     },
     "execution_count": 6,
     "metadata": {},
     "output_type": "execute_result"
    }
   ],
   "source": [
    "df = pd.read_csv(\"Social_Network_Ads.csv\")\n",
    "\n",
    "# Dimension del df (400 obs y 5 variables)\n",
    "df.shape\n"
   ]
  },
  {
   "cell_type": "code",
   "execution_count": 7,
   "id": "e667e8db-4ebc-401f-9145-c713c427cf43",
   "metadata": {},
   "outputs": [],
   "source": [
    "# Definimos las variables independientes (Edad y Salario)\n",
    "x = df.iloc[:,[2,3]].values\n",
    "\n",
    "# Variable objetivo (Compra=1, no compra=0)(Variable dicotomica)\n",
    "y = df.iloc[:,4].values"
   ]
  },
  {
   "cell_type": "code",
   "execution_count": 8,
   "id": "30192329-4367-4342-a642-841fa1d4b1ca",
   "metadata": {},
   "outputs": [],
   "source": [
    "# Division del df en data train y test. Seleccionamos un 25% para prueba (100 observaciones), ademas\n",
    "# la seleccion sera aleatoria (random_state=0)\n",
    "\n",
    "from sklearn.model_selection import train_test_split\n",
    "\n",
    "X_train, X_test, y_train, y_test = train_test_split(x,y,test_size = 0.25,random_state = 0)"
   ]
  },
  {
   "cell_type": "code",
   "execution_count": 9,
   "id": "aa097dbe-8407-46b4-80a7-67d182a1cf95",
   "metadata": {},
   "outputs": [],
   "source": [
    "# Como ambas variables independientes (edad y salario) se encuentran en distintas escalas se efectua\n",
    "# la Estandarizacion de escalas\n",
    "from sklearn.preprocessing import StandardScaler\n",
    "sc = StandardScaler()\n",
    "X_train = sc.fit_transform(X_train)\n",
    "X_test = sc.fit_transform(X_test)"
   ]
  },
  {
   "cell_type": "code",
   "execution_count": 10,
   "id": "39f72e39-0193-4fe4-9391-4cb0bc5a5291",
   "metadata": {},
   "outputs": [
    {
     "data": {
      "text/plain": [
       "LogisticRegression(random_state=0)"
      ]
     },
     "execution_count": 10,
     "metadata": {},
     "output_type": "execute_result"
    }
   ],
   "source": [
    "# Modelo Logistico y lo entrenamos\n",
    "\n",
    "from sklearn.linear_model import LogisticRegression\n",
    "clasificador = LogisticRegression(random_state=0)\n",
    "clasificador.fit(X_train, y_train)"
   ]
  },
  {
   "cell_type": "code",
   "execution_count": 39,
   "id": "40b767a8-05dd-42b3-be5c-35427565922d",
   "metadata": {},
   "outputs": [],
   "source": [
    "# Predicciones\n",
    "y_pred = clasificador.predict(X_test) # contiene los datos calculados por medio de la regresion logistica."
   ]
  },
  {
   "cell_type": "markdown",
   "id": "fc9a7502-864e-43a3-b365-761e56b76f18",
   "metadata": {},
   "source": [
    "### Matrix de Confusion"
   ]
  },
  {
   "cell_type": "code",
   "execution_count": 38,
   "id": "e5e16a84-b8fa-4e96-8d5b-312efb401054",
   "metadata": {},
   "outputs": [
    {
     "data": {
      "image/png": "[encoded data removed]",
      "text/plain": [
       "<Figure size 432x288 with 2 Axes>"
      ]
     },
     "metadata": {
      "needs_background": "light"
     },
     "output_type": "display_data"
    }
   ],
   "source": [
    "# procedemos a comparar por medio de la Matriz de Confusion\n",
    "from sklearn.metrics import confusion_matrix\n",
    "cm = confusion_matrix(y_test, y_pred)\n",
    "\n",
    "ax= plt.subplot()\n",
    "sns.heatmap(cm, annot=True, ax = ax)\n",
    "\n",
    "# Titulos\n",
    "ax.set_xlabel('Predicciones');ax.set_ylabel('Niveles verdaderos'); \n",
    "ax.set_title('Matriz de Confusion'); \n",
    "ax.xaxis.set_ticklabels(['0', '1']); ax.yaxis.set_ticklabels(['0', '1']);"
   ]
  },
  {
   "cell_type": "markdown",
   "id": "ccfc2155-afef-4bb5-b4aa-aa4db144c36a",
   "metadata": {},
   "source": [
    "Se observa que el modelo tiene un score del 87% (87 valores correctos sobre 100). Existen 8 registros que deberian ser 1 pero fueron clasificados como 0, y 5 registros que deberion ser clasificados como 0, pero fueron registrados como 1. Aunque los resultados son aceptables, este modelo debería ser entrenado con más datos para mejorar sus predicciones."
   ]
  },
  {
   "cell_type": "markdown",
   "id": "1497c142-8483-4e29-92ee-17f267ae0265",
   "metadata": {},
   "source": [
    "### Curva ROC"
   ]
  },
  {
   "cell_type": "code",
   "execution_count": 37,
   "id": "ef95c915-30e8-4525-8276-5f20c20e881b",
   "metadata": {},
   "outputs": [
    {
     "data": {
      "image/png": "[encoded data removed]",
      "text/plain": [
       "<Figure size 432x288 with 1 Axes>"
      ]
     },
     "metadata": {
      "needs_background": "light"
     },
     "output_type": "display_data"
    }
   ],
   "source": [
    "from sklearn.metrics import roc_curve\n",
    "fpr, tpr,thresholds = roc_curve(y_test,y_pred)\n",
    "plt.figure()\n",
    "plt.plot(fpr,tpr,color=\"darkorange\", label=\"ROC CURVE\")\n",
    "plt.plot([0, 1], [0, 1], color='navy', linestyle='--')\n",
    "plt.xlabel('False Positive Rate')\n",
    "plt.ylabel('True Positive Rate')\n",
    "plt.title('Modelo Logistico')\n",
    "plt.legend(loc=\"lower right\")\n",
    "plt.show()"
   ]
  },
  {
   "cell_type": "markdown",
   "id": "8b919bb3-bd8d-4ca6-b67b-0f157b1aaee1",
   "metadata": {},
   "source": [
    "La curva representa el porcentaje de verdaderos positivos (True Positive Ratio) (compraron y fueron catalogados como correctamente o no compraron y fueron catalogados como no compradores) (**Recall**), contra el ratio de falsos positivos (False Positive Rate)."
   ]
  },
  {
   "cell_type": "markdown",
   "id": "e61bea56-9a1a-4763-a06e-59cb957f1de5",
   "metadata": {},
   "source": [
    "### Area Under Curve\n",
    "\n",
    "A partir de la curva ROC se puede obtener la metrica **AUC** ( área bajo la curva). El valor de esta métrica se encuentra entre 0 y 1.\n",
    "- Donde 0: es como si tuvieramos un modelo aleatorio (podríamos lanzar una moneda y anotar sus resultados sería mejor modelo).\n",
    "- Donde 1: es un resultado optimo que indica que el modelo generaliza perfecto (no realista)."
   ]
  },
  {
   "cell_type": "code",
   "execution_count": 47,
   "id": "ea395de9-6ab3-4968-a4fb-0d98a06914c8",
   "metadata": {},
   "outputs": [
    {
     "data": {
      "text/plain": [
       "0.8382352941176471"
      ]
     },
     "execution_count": 47,
     "metadata": {},
     "output_type": "execute_result"
    }
   ],
   "source": [
    "from sklearn.metrics import roc_auc_score\n",
    "roc_auc_score(y_test,y_pred)"
   ]
  },
  {
   "cell_type": "markdown",
   "id": "c4012434-6574-44f1-95cf-55b7ddb9efb0",
   "metadata": {},
   "source": [
    "En este caso el AUC es **83,82%.**"
   ]
  },
  {
   "cell_type": "markdown",
   "id": "51326963-37a1-4d1c-aa6c-7929962eb18e",
   "metadata": {},
   "source": [
    "**Visualización de los resultados** \n"
   ]
  },
  {
   "cell_type": "code",
   "execution_count": 25,
   "id": "f311bb19-f446-4fd4-a6ba-3a5ef3803507",
   "metadata": {},
   "outputs": [
    {
     "name": "stderr",
     "output_type": "stream",
     "text": [
      "*c* argument looks like a single numeric RGB or RGBA sequence, which should be avoided as value-mapping will have precedence in case its length matches with *x* & *y*.  Please use the *color* keyword-argument or provide a 2D array with a single row if you intend to specify the same RGB or RGBA value for all points.\n",
      "*c* argument looks like a single numeric RGB or RGBA sequence, which should be avoided as value-mapping will have precedence in case its length matches with *x* & *y*.  Please use the *color* keyword-argument or provide a 2D array with a single row if you intend to specify the same RGB or RGBA value for all points.\n"
     ]
    },
    {
     "data": {
      "image/png": "[encoded data removed]",
      "text/plain": [
       "<Figure size 432x288 with 1 Axes>"
      ]
     },
     "metadata": {
      "needs_background": "light"
     },
     "output_type": "display_data"
    }
   ],
   "source": [
    "from matplotlib.colors import ListedColormap\n",
    "X_set, y_set = X_test, y_test\n",
    "# dibujamos el area y colores del mapa\n",
    "X1, X2 = np.meshgrid(np.arange(start = X_set[:, 0].min() - 1, stop = X_set[:, 0].max() + 1, step = 0.01),\n",
    "                     np.arange(start = X_set[:, 1].min() - 1, stop = X_set[:, 1].max() + 1, step = 0.01))\n",
    "plt.contourf(X1, X2, clasificador.predict(np.array([X1.ravel(), X2.ravel()]).T).reshape(X1.shape),\n",
    "             alpha = 0.75, cmap = ListedColormap(('red', 'green')))\n",
    "# limites\n",
    "plt.xlim(X1.min(), X1.max())\n",
    "plt.ylim(X2.min(), X2.max())\n",
    "\n",
    "for i, j in enumerate(np.unique(y_set)):\n",
    "    plt.scatter(X_set[y_set == j, 0], X_set[y_set == j, 1],\n",
    "                c = ListedColormap(('red', 'green'))(i), label = j)\n",
    "    \n",
    "# configuracion de eje\n",
    "plt.title('Regresion Logistica (Conjunto de Prueba)')\n",
    "plt.xlabel('Edad')\n",
    "plt.ylabel('Salario Estimado')\n",
    "plt.legend()\n",
    "plt.show()"
   ]
  },
  {
   "cell_type": "markdown",
   "id": "d19d7263-93d4-4cb6-af0c-df9a2eb18b80",
   "metadata": {},
   "source": [
    "- Zona roja = clientes que no compram (0)\n",
    "- Zona verde = clientes que compran (1)\n",
    "\n",
    "Se puede observar que el modelo predijo erroneamente en 13 oportinadades; en 8 casos predijo que los clientes no compraron (cuando si lo hicieron) y 5 casos de clientes que si compraron, pero fueron mal evaluados por el modelo (el modelo dijo que no compraron)."
   ]
  },
  {
   "cell_type": "markdown",
   "id": "c6c8194f-7199-434a-aecd-bcfce86bb5a3",
   "metadata": {},
   "source": [
    "###  Precision del Modelo"
   ]
  },
  {
   "cell_type": "code",
   "execution_count": 44,
   "id": "2e313f98-dcba-4a3d-8c85-3f5666c9da8f",
   "metadata": {},
   "outputs": [
    {
     "name": "stdout",
     "output_type": "stream",
     "text": [
      "0.87\n"
     ]
    }
   ],
   "source": [
    "score_test = clasificador.score(X_test,y_test)\n",
    "print(score_test)"
   ]
  },
  {
   "cell_type": "markdown",
   "id": "a372d07a-5c92-40e8-b949-c69fe88ca39a",
   "metadata": {},
   "source": [
    "El modelo tiene un 87% de precisión en la clasificación y/o predicción."
   ]
  }
 ],
 "metadata": {
  "kernelspec": {
   "display_name": "Python 3 (ipykernel)",
   "language": "python",
   "name": "python3"
  },
  "language_info": {
   "codemirror_mode": {
    "name": "ipython",
    "version": 3
   },
   "file_extension": ".py",
   "mimetype": "text/x-python",
   "name": "python",
   "nbconvert_exporter": "python",
   "pygments_lexer": "ipython3",
   "version": "3.9.7"
  }
 },
 "nbformat": 4,
 "nbformat_minor": 5
}
